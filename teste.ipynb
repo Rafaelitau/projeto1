{
 "cells": [
  {
   "cell_type": "code",
   "execution_count": 1,
   "id": "8cee53f6-44e4-4db9-860d-532d34420e3b",
   "metadata": {},
   "outputs": [
    {
     "data": {
      "text/plain": [
       "4"
      ]
     },
     "execution_count": 1,
     "metadata": {},
     "output_type": "execute_result"
    }
   ],
   "source": [
    "2 + 2\n"
   ]
  },
  {
   "cell_type": "code",
   "execution_count": 2,
   "id": "4016601b-83e9-4368-a098-0688f9a79179",
   "metadata": {},
   "outputs": [
    {
     "data": {
      "text/plain": [
       "10"
      ]
     },
     "execution_count": 2,
     "metadata": {},
     "output_type": "execute_result"
    }
   ],
   "source": [
    "5 + 5"
   ]
  },
  {
   "cell_type": "code",
   "execution_count": 4,
   "id": "82e67fde-e066-4db5-9793-b4a59eb5987f",
   "metadata": {},
   "outputs": [
    {
     "name": "stdin",
     "output_type": "stream",
     "text": [
      "Qual o seu nome?  Rafael\n"
     ]
    },
    {
     "name": "stdout",
     "output_type": "stream",
     "text": [
      "Olá, Rafael!\n"
     ]
    }
   ],
   "source": [
    " nome = input(\"Qual o seu nome? \")\n",
    "print(\"Olá, \" + nome + \"!\")"
   ]
  },
  {
   "cell_type": "code",
   "execution_count": 1,
   "id": "c1976926-7c64-40e4-b8b5-a53dc1bea6d9",
   "metadata": {},
   "outputs": [
    {
     "name": "stdout",
     "output_type": "stream",
     "text": [
      "4\n",
      "8\n",
      "12\n",
      "16\n",
      "20\n",
      "24\n",
      "28\n",
      "32\n",
      "36\n",
      "40\n",
      "44\n",
      "48\n",
      "52\n",
      "56\n",
      "60\n",
      "64\n",
      "68\n",
      "72\n",
      "76\n",
      "80\n",
      "84\n",
      "88\n",
      "92\n",
      "96\n",
      "100\n"
     ]
    }
   ],
   "source": [
    "# Crie uma lista com numeros de 1 a 100\n",
    "numeros = list(range(1,101))\n",
    "\n",
    "# Percorro a lista e verifico se o numero é divisivel por 4\n",
    "for numero in numeros:\n",
    "    if numero % 2 == 0 and numero % 4 == 0:\n",
    "        print(numero)"
   ]
  },
  {
   "cell_type": "code",
   "execution_count": 3,
   "id": "62c7f67c-386f-4edd-8782-abf6f834d6a6",
   "metadata": {},
   "outputs": [
    {
     "name": "stdout",
     "output_type": "stream",
     "text": [
      "[4, 8, 12, 16, 20, 24, 28, 32, 36, 40, 44, 48, 52, 56, 60, 64, 68, 72, 76, 80, 84, 88, 92, 96, 100]\n"
     ]
    }
   ],
   "source": [
    "# Crie uma lista com numeros de 1 a 100\n",
    "numeros = list(range(1,101))\n",
    "\n",
    "#Use a list comprehension para gerar uma lista somente com os numero pares diviseis por 4\n",
    "pares_div4 = [numero for numero in numeros if numero % 2 == 0 and numero % 4 == 0]\n",
    "\n",
    "# imprime a lista gerada\n",
    "print(pares_div4)"
   ]
  },
  {
   "cell_type": "code",
   "execution_count": null,
   "id": "9a9ec01e-744e-4080-8f03-66fca115b80c",
   "metadata": {},
   "outputs": [],
   "source": []
  }
 ],
 "metadata": {
  "kernelspec": {
   "display_name": "Python 3 (ipykernel)",
   "language": "python",
   "name": "python3"
  },
  "language_info": {
   "codemirror_mode": {
    "name": "ipython",
    "version": 3
   },
   "file_extension": ".py",
   "mimetype": "text/x-python",
   "name": "python",
   "nbconvert_exporter": "python",
   "pygments_lexer": "ipython3",
   "version": "3.11.7"
  }
 },
 "nbformat": 4,
 "nbformat_minor": 5
}
